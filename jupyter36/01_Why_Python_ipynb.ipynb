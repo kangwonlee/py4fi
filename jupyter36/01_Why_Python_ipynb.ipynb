{
 "cells": [
  {
   "cell_type": "markdown",
   "metadata": {},
   "source": [
    "<img src=\"http://hilpisch.com/tpq_logo.png\" alt=\"The Python Quants\" width=\"35%\" align=\"right\" border=\"0\"><br>"
   ]
  },
  {
   "cell_type": "markdown",
   "metadata": {},
   "source": [
    "# Python for Finance"
   ]
  },
  {
   "cell_type": "markdown",
   "metadata": {},
   "source": [
    "**Analyze Big Financial Data**\n",
    "\n",
    "O'Reilly (2014)\n",
    "\n",
    "Yves Hilpisch"
   ]
  },
  {
   "cell_type": "markdown",
   "metadata": {},
   "source": [
    "<img style=\"border:0px solid grey;\" src=\"http://hilpisch.com/python_for_finance.png\" alt=\"Python for Finance\" width=\"30%\" align=\"left\" border=\"0\">"
   ]
  },
  {
   "cell_type": "markdown",
   "metadata": {},
   "source": [
    "**Buy the book ** |\n",
    "<a href='http://shop.oreilly.com/product/0636920032441.do' target='_blank'>O'Reilly</a> |\n",
    "<a href='http://www.amazon.com/Yves-Hilpisch/e/B00JCYHHJM' target='_blank'>Amazon</a>\n",
    "\n",
    "**All book codes & IPYNBs** |\n",
    "<a href=\"http://oreilly.quant-platform.com\">http://oreilly.quant-platform.com</a>\n",
    "\n",
    "**The Python Quants GmbH** | <a href='http://tpq.io' target='_blank'>http://tpq.io</a>\n",
    "\n",
    "**Contact us** | <a href='mailto:pff@tpq.io'>pff@tpq.io</a>"
   ]
  },
  {
   "cell_type": "markdown",
   "metadata": {},
   "source": [
    "## Introduction"
   ]
  },
  {
   "cell_type": "code",
   "execution_count": null,
   "metadata": {},
   "outputs": [],
   "source": [
    "from pylab import plt\n",
    "plt.style.use('ggplot')\n",
    "import matplotlib as mpl\n",
    "mpl.rcParams['font.family'] = 'serif'"
   ]
  },
  {
   "cell_type": "markdown",
   "metadata": {},
   "source": [
    "## 1-3-1 Finance and Python Syntax"
   ]
  },
  {
   "cell_type": "code",
   "execution_count": null,
   "metadata": {
    "uuid": "1447b7bb-ed26-4c0f-9e0f-222dfd5d0c9b"
   },
   "outputs": [],
   "source": [
    "S0 = 100.\n",
    "K = 105.\n",
    "T = 1.0\n",
    "r = 0.05\n",
    "sigma = 0.2"
   ]
  },
  {
   "cell_type": "code",
   "execution_count": null,
   "metadata": {
    "uuid": "a95c7301-39f7-4d51-937a-334f051c2d9e"
   },
   "outputs": [],
   "source": [
    "from numpy import *\n",
    "\n",
    "I = 100000\n",
    "\n",
    "random.seed(1000)\n",
    "z = random.standard_normal(I)\n",
    "ST = S0 * exp(r * T + sigma * sqrt(T) * z)\n",
    "hT = maximum(ST - K, 0)\n",
    "C0 = exp(-r * T) * sum(hT) / I"
   ]
  },
  {
   "cell_type": "markdown",
   "metadata": {
    "uuid": "84aab05d-40de-4ef1-b3a8-eb08f86e1662"
   },
   "source": [
    "print(\"Value of the European Call Option %5.3f\" % C0)"
   ]
  },
  {
   "cell_type": "markdown",
   "metadata": {},
   "source": [
    "### A different approach"
   ]
  },
  {
   "cell_type": "markdown",
   "metadata": {},
   "source": [
    "BSM model final stock index"
   ]
  },
  {
   "cell_type": "markdown",
   "metadata": {},
   "source": [
    "$$\n",
    "S_T = S_0 \\cdot exp\\left(\\left(r-\\frac{1}{2}\\sigma^2 \\right)T+\\sigma \\sqrt{Tz} \\right)\n",
    "$$"
   ]
  },
  {
   "cell_type": "markdown",
   "metadata": {},
   "source": [
    "| Variable | Meaning(?) | Value |\n",
    "|:-----:|:-----:|:-----:|\n",
    "| $S_0$ | Initial index price | 100 |\n",
    "| $K$ | Europian Call Option Execution Price | 105 |\n",
    "| $T$ | Term of expiration | 1 yr |\n",
    "| $r$ | risk free short term interest rate | 5% |\n",
    "| $\\sigma$ | Variablility | 20% |\n",
    "\n"
   ]
  },
  {
   "cell_type": "code",
   "execution_count": null,
   "metadata": {},
   "outputs": [],
   "source": [
    "import numpy as np\n",
    "import matplotlib.pyplot as plt\n",
    "\n"
   ]
  },
  {
   "cell_type": "code",
   "execution_count": null,
   "metadata": {},
   "outputs": [],
   "source": [
    "class BsmIndex(object):\n",
    "    def __init__(self, s_0, k, t_yr, r, sigma):\n",
    "        self.s_0 = s_0\n",
    "        self.k = k\n",
    "        self.t_yr = t_yr\n",
    "        self.r = r\n",
    "        self.sigma = sigma\n",
    "\n",
    "    def final_stock_index(self, z):\n",
    "\n",
    "        return self.s_0 * np.exp(\n",
    "            (self.r - 0.5 * (self.sigma ** 2)) * self.t_yr \n",
    "            + self.sigma * z * (self.t_yr ** 0.5)\n",
    "        )\n",
    "\n",
    "    def monte_carlo_simulation(self, I):\n",
    "        z = np.random.standard_normal(I)\n",
    "        st = self.final_stock_index(z)\n",
    "        hT = np.maximum(st - self.k, 0)\n",
    "        C0 = np.exp(-self.r * self.t_yr) * sum(hT) / I\n",
    "        \n",
    "        return C0, hT, st\n",
    "\n"
   ]
  },
  {
   "cell_type": "code",
   "execution_count": null,
   "metadata": {},
   "outputs": [],
   "source": [
    "bsm = BsmIndex(s_0=100, k=105, t_yr=1, r=0.05, sigma=0.20)\n",
    "\n"
   ]
  },
  {
   "cell_type": "code",
   "execution_count": null,
   "metadata": {},
   "outputs": [],
   "source": [
    "I = 10000\n",
    "C0, hT, st = bsm.monte_carlo_simulation(I)\n",
    "\n"
   ]
  },
  {
   "cell_type": "markdown",
   "metadata": {},
   "source": [
    "Value of the European Call Option"
   ]
  },
  {
   "cell_type": "code",
   "execution_count": null,
   "metadata": {},
   "outputs": [],
   "source": [
    "C0\n",
    "\n"
   ]
  },
  {
   "cell_type": "code",
   "execution_count": null,
   "metadata": {},
   "outputs": [],
   "source": [
    "x = np.array(range(I))\n",
    "\n",
    "plt.subplot(2, 1, 1)\n",
    "\n",
    "plt.hist(st, label='$S_T$')\n",
    "plt.legend(loc=0)\n",
    "plt.grid(True)\n",
    "\n",
    "plt.subplot(2, 1, 2)\n",
    "\n",
    "ht_plot = plt.hist(hT, label='hT')\n",
    "ylim = plt.ylim()\n",
    "\n",
    "plt.vlines(C0, ylim[0], ylim[1], label=\"$C_0$\")\n",
    "plt.legend(loc=0)\n",
    "plt.grid(True)\n",
    "\n"
   ]
  },
  {
   "cell_type": "markdown",
   "metadata": {},
   "source": [
    "## Time-to-Results"
   ]
  },
  {
   "cell_type": "code",
   "execution_count": null,
   "metadata": {
    "uuid": "e16924db-8402-4bcb-a9c7-d5753346c72a"
   },
   "outputs": [],
   "source": [
    "import numpy as np\n",
    "import pandas as pd"
   ]
  },
  {
   "cell_type": "code",
   "execution_count": null,
   "metadata": {
    "uuid": "22071d72-094b-4b51-aa39-cfa793d58623"
   },
   "outputs": [],
   "source": [
    "# data from Thomson Reuters Eikon API\n",
    "raw = pd.read_csv('source/tr_eikon_eod_data.csv',\n",
    "                   index_col=0, parse_dates=True)\n",
    "amzn = pd.DataFrame(raw['AMZN.O'])\n",
    "amzn.columns = ['Close']\n",
    "amzn.tail()"
   ]
  },
  {
   "cell_type": "code",
   "execution_count": null,
   "metadata": {
    "uuid": "304b2f50-5b81-4e88-8fa7-ea69995cf2fe"
   },
   "outputs": [],
   "source": [
    "amzn['Log_Ret'] = np.log(amzn['Close'] / amzn['Close'].shift(1))\n",
    "amzn['Volatility'] = amzn['Log_Ret'].rolling(window=252).std() * np.sqrt(252)"
   ]
  },
  {
   "cell_type": "code",
   "execution_count": null,
   "metadata": {
    "uuid": "b4e61939-c7fe-4a1e-a8c9-6fd755edcf86"
   },
   "outputs": [],
   "source": [
    "%matplotlib inline\n",
    "amzn[['Close', 'Volatility']].plot(subplots=True, color='blue',\n",
    "                                   figsize=(8, 6), grid=True);\n",
    "# tag: amzn_vola\n",
    "# title: Amazon closing prices and yearly volatility"
   ]
  },
  {
   "cell_type": "markdown",
   "metadata": {},
   "source": [
    "## Paradigm"
   ]
  },
  {
   "cell_type": "code",
   "execution_count": null,
   "metadata": {
    "uuid": "beca497d-4c20-4240-b003-4c79c26154be"
   },
   "outputs": [],
   "source": [
    "loops = 2500000\n",
    "from math import *\n",
    "a = range(1, loops)\n",
    "def f(x):\n",
    "    return 3 * log(x) + cos(x) ** 2\n",
    "%timeit r = [f(x) for x in a]"
   ]
  },
  {
   "cell_type": "code",
   "execution_count": null,
   "metadata": {
    "uuid": "931fd1fc-cc54-4045-802f-acb8f094a23f"
   },
   "outputs": [],
   "source": [
    "import numpy as np\n",
    "a = np.arange(1, loops)\n",
    "%timeit r = 3 * np.log(a) + np.cos(a) ** 2"
   ]
  },
  {
   "cell_type": "code",
   "execution_count": null,
   "metadata": {
    "uuid": "8d1602b3-a490-4d1a-97d9-112825d86185"
   },
   "outputs": [],
   "source": [
    "import numexpr as ne\n",
    "ne.set_num_threads(1)\n",
    "f = '3 * log(a) + cos(a) ** 2'\n",
    "%timeit r = ne.evaluate(f)"
   ]
  },
  {
   "cell_type": "code",
   "execution_count": null,
   "metadata": {
    "uuid": "6994f16a-1802-4abe-851d-a48e0ead154d"
   },
   "outputs": [],
   "source": [
    "ne.set_num_threads(4)\n",
    "%timeit r = ne.evaluate(f)"
   ]
  },
  {
   "cell_type": "markdown",
   "metadata": {},
   "source": [
    "<img src=\"http://hilpisch.com/tpq_logo.png\" alt=\"The Python Quants\" width=\"35%\" align=\"right\" border=\"0\"><br>\n",
    "\n",
    "<a href=\"http://tpq.io\" target=\"_blank\">http://tpq.io</a> | <a href=\"http://twitter.com/dyjh\" target=\"_blank\">@dyjh</a> | <a href=\"mailto:training@tpq.io\">training@tpq.io</a>\n",
    "\n",
    "**Quant Platform** |\n",
    "<a href=\"http://quant-platform.com\">http://quant-platform.com</a>\n",
    "\n",
    "**Python for Finance** |\n",
    "<a href=\"http://python-for-finance.com\" target=\"_blank\">Python for Finance @ O'Reilly</a>\n",
    "\n",
    "**Derivatives Analytics with Python** |\n",
    "<a href=\"http://derivatives-analytics-with-python.com\" target=\"_blank\">Derivatives Analytics @ Wiley Finance</a>\n",
    "\n",
    "**Listed Volatility and Variance Derivatives** |\n",
    "<a href=\"http://lvvd.tpq.io\" target=\"_blank\">Listed VV Derivatives @ Wiley Finance</a>\n",
    "\n",
    "**Python Training** |\n",
    "<a href=\"http://training.tpq.io\" target=\"_blank\">Python for Finance University Certificate</a>"
   ]
  }
 ],
 "metadata": {
  "anaconda-cloud": {},
  "kernelspec": {
   "display_name": "Python 3",
   "language": "python",
   "name": "python3"
  },
  "language_info": {
   "codemirror_mode": {
    "name": "ipython",
    "version": 3
   },
   "file_extension": ".py",
   "mimetype": "text/x-python",
   "name": "python",
   "nbconvert_exporter": "python",
   "pygments_lexer": "ipython3",
   "version": "3.6.5"
  }
 },
 "nbformat": 4,
 "nbformat_minor": 1
}
