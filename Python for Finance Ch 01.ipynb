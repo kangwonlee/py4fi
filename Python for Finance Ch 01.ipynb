{
 "cells": [
  {
   "cell_type": "markdown",
   "metadata": {},
   "source": [
    "Python for Finance Korean version"
   ]
  },
  {
   "cell_type": "markdown",
   "metadata": {},
   "source": [
    "### 1-3-1"
   ]
  },
  {
   "cell_type": "markdown",
   "metadata": {},
   "source": [
    "BSM model final stock index"
   ]
  },
  {
   "cell_type": "markdown",
   "metadata": {},
   "source": [
    "$$\n",
    "S_T = S_0 \\cdot exp\\left(\\left(r-\\frac{1}{2}\\sigma^2 \\right)T+\\sigma \\sqrt{Tz} \\right)\n",
    "$$"
   ]
  },
  {
   "cell_type": "markdown",
   "metadata": {},
   "source": [
    "| Variable | Meaning(?) | Value |\n",
    "|:-----:|:-----:|:-----:|\n",
    "| $S_0$ | Initial index price | 100 |\n",
    "| $K$ | Europian Call Option Execution Price | 105 |\n",
    "| $T$ | Term of expiration | 1 yr |\n",
    "| $r$ | risk free short term interest rate | 5% |\n",
    "| $\\sigma$ | Variablility | 20% |\n"
   ]
  },
  {
   "cell_type": "code",
   "execution_count": null,
   "metadata": {},
   "outputs": [],
   "source": [
    "import numpy as np\n",
    "import matplotlib.pyplot as plt\n",
    "\n"
   ]
  },
  {
   "cell_type": "code",
   "execution_count": null,
   "metadata": {},
   "outputs": [],
   "source": [
    "class BsmIndex(object):\n",
    "    def __init__(self, s_0, k, t_yr, r, sigma):\n",
    "        self.s_0 = s_0\n",
    "        self.k = k\n",
    "        self.t_yr = t_yr\n",
    "        self.r = r\n",
    "        self.sigma = sigma\n",
    "\n",
    "    def final_stock_index(self, z):\n",
    "\n",
    "        return self.s_0 * np.exp(\n",
    "            (self.r - 0.5 * (self.sigma ** 2)) * self.t_yr \n",
    "            + self.sigma * z * (self.t_yr ** 0.5)\n",
    "        )\n",
    "\n",
    "    def monte_carlo_simulation(self, I):\n",
    "        z = np.random.standard_normal(I)\n",
    "        st = self.final_stock_index(z)\n",
    "        hT = np.maximum(st - self.k, 0)\n",
    "        C0 = np.exp(-self.r * self.t_yr) * sum(hT) / I\n",
    "        \n",
    "        return C0, hT, st\n",
    "\n"
   ]
  },
  {
   "cell_type": "markdown",
   "metadata": {},
   "source": [
    "Instance of BSM index model"
   ]
  },
  {
   "cell_type": "code",
   "execution_count": null,
   "metadata": {},
   "outputs": [],
   "source": [
    "bsm = BsmIndex(s_0=100, k=105, t_yr=1, r=0.05, sigma=0.20)\n",
    "\n"
   ]
  },
  {
   "cell_type": "code",
   "execution_count": null,
   "metadata": {},
   "outputs": [],
   "source": [
    "I = 10000\n",
    "C0, hT, st = bsm.monte_carlo_simulation(I)\n",
    "\n"
   ]
  },
  {
   "cell_type": "code",
   "execution_count": null,
   "metadata": {},
   "outputs": [],
   "source": []
  }
 ],
 "metadata": {
  "kernelspec": {
   "display_name": "Python 3",
   "language": "python",
   "name": "python3"
  },
  "language_info": {
   "codemirror_mode": {
    "name": "ipython",
    "version": 3
   },
   "file_extension": ".py",
   "mimetype": "text/x-python",
   "name": "python",
   "nbconvert_exporter": "python",
   "pygments_lexer": "ipython3",
   "version": "3.6.5"
  }
 },
 "nbformat": 4,
 "nbformat_minor": 2
}
