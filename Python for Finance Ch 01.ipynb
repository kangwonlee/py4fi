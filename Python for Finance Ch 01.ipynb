{
 "cells": [
  {
   "cell_type": "markdown",
   "metadata": {},
   "source": [
    "Python for Finance Korean version"
   ]
  },
  {
   "cell_type": "markdown",
   "metadata": {},
   "source": [
    "### 1-3-1"
   ]
  },
  {
   "cell_type": "markdown",
   "metadata": {},
   "source": [
    "BSM model final stock index"
   ]
  },
  {
   "cell_type": "markdown",
   "metadata": {},
   "source": [
    "$$\n",
    "S_T = S_0 \\cdot exp\\left(\\left(r-\\frac{1}{2}\\sigma^2 \\right)T+\\sigma \\sqrt{Tz} \\right)\n",
    "$$"
   ]
  },
  {
   "cell_type": "markdown",
   "metadata": {},
   "source": [
    "| Variable | Meaning(?) | Value |\n",
    "|:-----:|:-----:|:-----:|\n",
    "| $S_0$ | Initial index price | 100 |\n",
    "| $K$ | Europian Call Option Execution Price | 105 |\n",
    "| $T$ | Term of expiration | 1 yr |\n",
    "| $r$ | risk free short term interest rate | 5% |\n",
    "| $\\sigma$ | Variablility | 20% |\n"
   ]
  },
  {
   "cell_type": "code",
   "execution_count": null,
   "metadata": {},
   "outputs": [],
   "source": []
  }
 ],
 "metadata": {
  "kernelspec": {
   "display_name": "Python 3",
   "language": "python",
   "name": "python3"
  },
  "language_info": {
   "codemirror_mode": {
    "name": "ipython",
    "version": 3
   },
   "file_extension": ".py",
   "mimetype": "text/x-python",
   "name": "python",
   "nbconvert_exporter": "python",
   "pygments_lexer": "ipython3",
   "version": "3.6.5"
  }
 },
 "nbformat": 4,
 "nbformat_minor": 2
}
